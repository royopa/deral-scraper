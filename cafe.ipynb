{
 "cells": [
  {
   "cell_type": "code",
   "execution_count": null,
   "metadata": {},
   "outputs": [],
   "source": [
    "import pandas as pd\n",
    "import os\n",
    "\n",
    "def get_pandas_dataframe_base(path_file_base):\n",
    "    df = pd.read_csv(path_file_base, sep=';', encoding='utf8')\n",
    "    return df\n",
    "\n",
    "base_file_name = 'precos_deral_base.csv'\n",
    "path_file_base = os.path.join('bases', base_file_name)\n",
    "df = get_pandas_dataframe_base(path_file_base)\n",
    "\n",
    "# Select only cafe\n",
    "df['dt_referencia'] = pd.to_datetime(df['dt_referencia'])\n",
    "df = df[df['no_produto'] == 'café em coco']\n",
    "df = df.dropna()\n",
    "df = df[['dt_referencia','vr_real']]\n",
    "# set the index\n",
    "df.set_index('dt_referencia', inplace=True)"
   ]
  },
  {
   "cell_type": "code",
   "execution_count": null,
   "metadata": {},
   "outputs": [],
   "source": [
    "df.plot(title='Café', kind='line')"
   ]
  },
  {
   "cell_type": "code",
   "execution_count": null,
   "metadata": {},
   "outputs": [],
   "source": []
  }
 ],
 "metadata": {
  "kernelspec": {
   "display_name": "Python 3",
   "language": "python",
   "name": "python3"
  },
  "language_info": {
   "codemirror_mode": {
    "name": "ipython",
    "version": 3
   },
   "file_extension": ".py",
   "mimetype": "text/x-python",
   "name": "python",
   "nbconvert_exporter": "python",
   "pygments_lexer": "ipython3",
   "version": "3.6.4"
  }
 },
 "nbformat": 4,
 "nbformat_minor": 2
}
